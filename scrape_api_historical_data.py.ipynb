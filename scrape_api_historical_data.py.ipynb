{
 "cells": [
  {
   "cell_type": "code",
   "execution_count": 1,
   "metadata": {},
   "outputs": [
    {
     "name": "stdout",
     "output_type": "stream",
     "text": [
      "new token received\n",
      "0\n"
     ]
    },
    {
     "ename": "TypeError",
     "evalue": "'NoneType' object is not iterable",
     "output_type": "error",
     "traceback": [
      "\u001b[0;31m---------------------------------------------------------------------------\u001b[0m",
      "\u001b[0;31mTypeError\u001b[0m                                 Traceback (most recent call last)",
      "\u001b[0;32m<ipython-input-1-f24a16147d98>\u001b[0m in \u001b[0;36m<module>\u001b[0;34m\u001b[0m\n\u001b[1;32m     48\u001b[0m     \u001b[0mmy_dict\u001b[0m \u001b[0;34m=\u001b[0m\u001b[0mjson\u001b[0m\u001b[0;34m.\u001b[0m\u001b[0mloads\u001b[0m\u001b[0;34m(\u001b[0m\u001b[0mresponse\u001b[0m\u001b[0;34m.\u001b[0m\u001b[0mtext\u001b[0m\u001b[0;34m)\u001b[0m\u001b[0;34m\u001b[0m\u001b[0;34m\u001b[0m\u001b[0m\n\u001b[1;32m     49\u001b[0m     \u001b[0manimals\u001b[0m \u001b[0;34m=\u001b[0m \u001b[0mmy_dict\u001b[0m\u001b[0;34m.\u001b[0m\u001b[0mget\u001b[0m\u001b[0;34m(\u001b[0m\u001b[0;34m'animals'\u001b[0m\u001b[0;34m)\u001b[0m\u001b[0;34m\u001b[0m\u001b[0;34m\u001b[0m\u001b[0m\n\u001b[0;32m---> 50\u001b[0;31m     \u001b[0mdf\u001b[0m \u001b[0;34m=\u001b[0m \u001b[0mpd\u001b[0m\u001b[0;34m.\u001b[0m\u001b[0mio\u001b[0m\u001b[0;34m.\u001b[0m\u001b[0mjson\u001b[0m\u001b[0;34m.\u001b[0m\u001b[0mjson_normalize\u001b[0m\u001b[0;34m(\u001b[0m\u001b[0manimals\u001b[0m\u001b[0;34m)\u001b[0m\u001b[0;34m\u001b[0m\u001b[0;34m\u001b[0m\u001b[0m\n\u001b[0m\u001b[1;32m     51\u001b[0m     \u001b[0mrespdf\u001b[0m \u001b[0;34m=\u001b[0m \u001b[0mrespdf\u001b[0m\u001b[0;34m.\u001b[0m\u001b[0mappend\u001b[0m\u001b[0;34m(\u001b[0m\u001b[0mdf\u001b[0m\u001b[0;34m)\u001b[0m\u001b[0;34m\u001b[0m\u001b[0;34m\u001b[0m\u001b[0m\n\u001b[1;32m     52\u001b[0m     \u001b[0mtime\u001b[0m\u001b[0;34m.\u001b[0m\u001b[0msleep\u001b[0m\u001b[0;34m(\u001b[0m\u001b[0;36m1\u001b[0m\u001b[0;34m)\u001b[0m\u001b[0;34m\u001b[0m\u001b[0;34m\u001b[0m\u001b[0m\n",
      "\u001b[0;32m/opt/anaconda3/envs/insight/lib/python3.6/site-packages/pandas/io/json/_normalize.py\u001b[0m in \u001b[0;36mjson_normalize\u001b[0;34m(data, record_path, meta, meta_prefix, record_prefix, errors, sep, max_level)\u001b[0m\n\u001b[1;32m    256\u001b[0m \u001b[0;34m\u001b[0m\u001b[0m\n\u001b[1;32m    257\u001b[0m     \u001b[0;32mif\u001b[0m \u001b[0mrecord_path\u001b[0m \u001b[0;32mis\u001b[0m \u001b[0;32mNone\u001b[0m\u001b[0;34m:\u001b[0m\u001b[0;34m\u001b[0m\u001b[0;34m\u001b[0m\u001b[0m\n\u001b[0;32m--> 258\u001b[0;31m         \u001b[0;32mif\u001b[0m \u001b[0many\u001b[0m\u001b[0;34m(\u001b[0m\u001b[0;34m[\u001b[0m\u001b[0misinstance\u001b[0m\u001b[0;34m(\u001b[0m\u001b[0mx\u001b[0m\u001b[0;34m,\u001b[0m \u001b[0mdict\u001b[0m\u001b[0;34m)\u001b[0m \u001b[0;32mfor\u001b[0m \u001b[0mx\u001b[0m \u001b[0;32min\u001b[0m \u001b[0my\u001b[0m\u001b[0;34m.\u001b[0m\u001b[0mvalues\u001b[0m\u001b[0;34m(\u001b[0m\u001b[0;34m)\u001b[0m\u001b[0;34m]\u001b[0m \u001b[0;32mfor\u001b[0m \u001b[0my\u001b[0m \u001b[0;32min\u001b[0m \u001b[0mdata\u001b[0m\u001b[0;34m)\u001b[0m\u001b[0;34m:\u001b[0m\u001b[0;34m\u001b[0m\u001b[0;34m\u001b[0m\u001b[0m\n\u001b[0m\u001b[1;32m    259\u001b[0m             \u001b[0;31m# naive normalization, this is idempotent for flat records\u001b[0m\u001b[0;34m\u001b[0m\u001b[0;34m\u001b[0m\u001b[0;34m\u001b[0m\u001b[0m\n\u001b[1;32m    260\u001b[0m             \u001b[0;31m# and potentially will inflate the data considerably for\u001b[0m\u001b[0;34m\u001b[0m\u001b[0;34m\u001b[0m\u001b[0;34m\u001b[0m\u001b[0m\n",
      "\u001b[0;31mTypeError\u001b[0m: 'NoneType' object is not iterable"
     ]
    }
   ],
   "source": [
    "import requests\n",
    "import os \n",
    "import pandas as pd\n",
    "import time \n",
    "import json\n",
    "from pandas.io.json import json_normalize  \n",
    "\n",
    "\n",
    "#get auth token \n",
    "KEY = os.environ['PETFINDER_KEY']\n",
    "SECRET = os.environ['PETFINDER_SECRET']\n",
    "\n",
    "def GetBearerToken(KEY,SECRET):\n",
    "    data = {\n",
    "    'grant_type': 'client_credentials',\n",
    "    'client_id': KEY,\n",
    "    'client_secret': SECRET\n",
    "      }\n",
    "    response = requests.post('https://api.petfinder.com/v2/oauth2/token', data=data)\n",
    "    if response.reason != 'OK':\n",
    "        print('failed to get token. check credentials')\n",
    "        print('response code:', response.status_code)\n",
    "        print('response reason:', response.reason)\n",
    "    else:\n",
    "        print('new token received')\n",
    "        TOKEN = json.loads(response.text)['access_token']\n",
    "        new_header = {\n",
    "                'Authorization': 'Bearer {}'.format(TOKEN),}\n",
    "    return new_header\n",
    "\n",
    "    \n",
    "header = GetBearerToken(KEY,SECRET)\n",
    "\n",
    "type = 'Dog'\n",
    "location = 85017    #kansas city 64106, #milwaukee 53202      #78401 corpuscristi                   #omaha #oklahoma city   \n",
    "limit = 100\n",
    "distance = 100 \n",
    "status = 'adopted'\n",
    "outfile = 'Phoenix_adopted_20k_Jan_29.csv'\n",
    "\n",
    "respdf = pd.DataFrame()\n",
    "\n",
    "for i in range(200):\n",
    "    page = i + 1 \n",
    "    url = f'https://api.petfinder.com/v2/animals?type={type}&location={location}&limit={limit}&page={page}&distance={distance}&status={status}'\n",
    "    print(i)\n",
    "    response = requests.get(url, headers=header)\n",
    "    my_dict =json.loads(response.text)\n",
    "    animals = my_dict.get('animals')\n",
    "    df = pd.io.json.json_normalize(animals)\n",
    "    respdf = respdf.append(df)\n",
    "    time.sleep(1)\n",
    "\n",
    "respdf.to_csv(path_or_buf = outfile)\n",
    "\n"
   ]
  },
  {
   "cell_type": "code",
   "execution_count": 4,
   "metadata": {},
   "outputs": [],
   "source": [
    "respdf.to_csv(path_or_buf = outfile)"
   ]
  },
  {
   "cell_type": "code",
   "execution_count": null,
   "metadata": {},
   "outputs": [],
   "source": [
    "import pandas as pd\n",
    "import matplotlib.pyplot as plt\n",
    "from petdata_functions import CleanPetData\n",
    "from petdata_functions import ReformatDates\n",
    "\n",
    "\n",
    "#read in data \n",
    "chidat = pd.read_csv(\"Chicago_adopted_20k_Jan_21.csv\") \n",
    "chidat['City'] = 'Chicago'\n",
    "\n",
    "houstdat = pd.read_csv(\"Houston_adopted_20k_Jan_21.csv\") \n",
    "houstdat['City'] = 'Houston'\n",
    "\n",
    "elpdat = pd.read_csv(\"ElPaso_adopted_20k_Jan_21.csv\") \n",
    "elpdat['City'] = 'ElPaso'\n",
    "\n",
    "Minndat = pd.read_csv(\"Chicago_adopted_20k_Jan_21.csv\") \n",
    "Minndat['City'] = 'Minne'\n",
    "\n",
    "dendat = pd.read_csv(\"Denver_adopted_20k_Jan_21.csv\") \n",
    "dendat['City'] = 'Denver'\n",
    "\n",
    "stldat = pd.read_csv(\"StL_adopted_20k_Jan_21.csv\")\n",
    "stldat['City'] = 'StLouis'\n",
    "\n",
    "inddat = pd.read_csv(\"Indy_adopted_20k_Jan_21.csv\")\n",
    "inddat['City'] = 'Indy'\n",
    "\n",
    "petdat = pd.concat([chidat,houstdat,elpdat,Minndat,dendat, stldat, inddat])\n",
    "\n",
    "\n",
    "petdat = CleanPetData(petdat)\n",
    "\n",
    "#petdat = ReformatDates(petdat)\n",
    "    \n",
    "fmt ='%Y-%m-%dT%H:%M:%S+0000'\n",
    "petdat['published_at'] =  pd.to_datetime(petdat['published_at'], format=fmt)\n",
    "petdat['status_changed_at'] =  pd.to_datetime(petdat['status_changed_at'], format=fmt)\n",
    "petdat['time_diff'] = petdat['status_changed_at'] - petdat['published_at']\n",
    "petdat['target_hour'] = petdat.time_diff.astype('timedelta64[h]')\n",
    "    "
   ]
  }
 ],
 "metadata": {
  "kernelspec": {
   "display_name": "Python 3",
   "language": "python",
   "name": "python3"
  },
  "language_info": {
   "codemirror_mode": {
    "name": "ipython",
    "version": 3
   },
   "file_extension": ".py",
   "mimetype": "text/x-python",
   "name": "python",
   "nbconvert_exporter": "python",
   "pygments_lexer": "ipython3",
   "version": "3.6.10"
  }
 },
 "nbformat": 4,
 "nbformat_minor": 2
}
