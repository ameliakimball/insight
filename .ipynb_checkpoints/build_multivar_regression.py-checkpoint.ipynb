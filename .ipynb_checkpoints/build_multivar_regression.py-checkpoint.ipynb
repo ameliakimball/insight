{
 "cells": [
  {
   "cell_type": "code",
   "execution_count": 38,
   "metadata": {},
   "outputs": [
    {
     "name": "stdout",
     "output_type": "stream",
     "text": [
      "0.0769932966591923\n"
     ]
    }
   ],
   "source": [
    "import numpy as np\n",
    "import pandas as pd\n",
    "import matplotlib.pyplot as plt\n",
    "import sklearn\n",
    "import seaborn as sns\n",
    "import pickle\n",
    "\n",
    "from sklearn.linear_model import LinearRegression\n",
    "\n",
    "traindat = pd.read_csv('Training_data_Jan_21.csv', index_col = 0)\n",
    "\n",
    "#one hot coding for variables\n",
    "cols_to_transform = ['age', 'gender', 'size','City']\n",
    "traindat = pd.get_dummies(traindat, columns = cols_to_transform )\n",
    "\n",
    "\n",
    "\n",
    "#transform DV to address skew.  add 1 to \n",
    "#traindat.hist(column='target_hour')\n",
    "\n",
    "traindat = traindat[traindat['target_hour'] > 24] \n",
    "traindat['log_target_hour'] = np.log(traindat['target_hour'])\n",
    "\n",
    "\n",
    "def normalize(column):\n",
    "    upper = column.max()\n",
    "    lower = column.min()\n",
    "    y = (column - lower)/(upper-lower)\n",
    "    return y\n",
    "\n",
    "traindat['norm_log_targ_hour'] = normalize(traindat.log_target_hour)\n",
    "\n",
    "traindat.head()\n",
    "\n",
    "#drop the various DVs from table to return only the other features \n",
    "X = traindat.drop(['target_hour','log_target_hour','norm_log_targ_hour'],axis = 1)\n",
    "\n",
    "#fit lm\n",
    "lm = LinearRegression()\n",
    "#lm\n",
    "\n",
    "lm.fit(X, traindat.norm_log_targ_hour)\n",
    "print(lm.score(X, traindat.norm_log_targ_hour))\n",
    "\n",
    "pd.DataFrame({'features': X.columns, 'estimatedCoefficients': lm.coef_})[['features', 'estimatedCoefficients']]\n",
    "\n",
    "\n",
    "# save the model to disk\n",
    "filename = 'draft_pet_model.sav'\n",
    "pickle.dump(lm, open(filename, 'wb'))\n",
    "\n",
    "# some time later...\n",
    " \n",
    "# load the model from disk\n",
    "#with . filename = 'draft_pet_model.sav'\n",
    "loaded_model = pickle.load(open(filename, 'rb'))\n",
    "\n",
    "\n",
    "#need some test thing that provides the prediction for each one. \n",
    "\n",
    "#pred_hour = loaded_model.predict(X_test)\n",
    "\n"
   ]
  },
  {
   "cell_type": "code",
   "execution_count": null,
   "metadata": {},
   "outputs": [],
   "source": []
  }
 ],
 "metadata": {
  "kernelspec": {
   "display_name": "Python 3",
   "language": "python",
   "name": "python3"
  },
  "language_info": {
   "codemirror_mode": {
    "name": "ipython",
    "version": 3
   },
   "file_extension": ".py",
   "mimetype": "text/x-python",
   "name": "python",
   "nbconvert_exporter": "python",
   "pygments_lexer": "ipython3",
   "version": "3.7.4"
  }
 },
 "nbformat": 4,
 "nbformat_minor": 2
}
