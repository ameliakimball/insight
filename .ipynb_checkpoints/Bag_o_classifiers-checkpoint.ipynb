{
 "cells": [
  {
   "cell_type": "code",
   "execution_count": null,
   "metadata": {},
   "outputs": [
    {
     "name": "stdout",
     "output_type": "stream",
     "text": [
      "Accuracy of XGBClassifier(base_score=0.5, booster='gbtree', colsample_bylevel=1,\n",
      "              colsample_bynode=1, colsample_bytree=1, gamma=0,\n",
      "              learning_rate=0.1, max_delta_step=0, max_depth=3,\n",
      "              min_child_weight=1, missing=None, n_estimators=100, n_jobs=1,\n",
      "              nthread=None, objective='binary:logistic', random_state=0,\n",
      "              reg_alpha=0, reg_lambda=1, scale_pos_weight=1, seed=None,\n",
      "              silent=None, subsample=1, verbosity=1) is 0.6979923109782145\n"
     ]
    }
   ],
   "source": [
    "import pandas as pd \n",
    "import numpy as np\n",
    "from sklearn.metrics import accuracy_score, roc_auc_score, confusion_matrix\n",
    "from sklearn.ensemble import RandomForestClassifier\n",
    "from sklearn import svm, tree\n",
    "import xgboost\n",
    "from sklearn.model_selection import train_test_split\n",
    "\n",
    "\n",
    "\n",
    "petdat = pd.read_csv('backup_petdata_Jan30.csv')\n",
    "\n",
    "moddat = petdat[['coat',\n",
    "                 'age',\n",
    "                 'size',\n",
    "                 'top_ten',\n",
    "                 'contact.address.state',\n",
    "                 'attributes.special_needs',\n",
    "                 'environment.children',\n",
    "                 'environment.dogs',\n",
    "                 'environment.cats',\n",
    "                 'bin_month_target']]\n",
    "\n",
    "\n",
    "cols_to_transform = ['coat',\n",
    "                     'age',\n",
    "                     'size',\n",
    "                     'top_ten',\n",
    "                     'contact.address.state',\n",
    "                     'attributes.special_needs',\n",
    "                     'environment.children',\n",
    "                     'environment.dogs',\n",
    "                     'environment.cats']\n",
    "\n",
    "\n",
    "moddat = pd.get_dummies(moddat, columns = cols_to_transform)\n",
    "\n",
    "X = moddat.drop(columns = ['bin_month_target'])\n",
    "\n",
    "X_train,X_test,y_train,y_test = train_test_split(X, moddat.bin_month_target, test_size=0.20, random_state=42)\n",
    "\n",
    "\n",
    "classifiers = []\n",
    "\n",
    "model1 = xgboost.XGBClassifier()\n",
    "classifiers.append(model1)\n",
    "model2 = svm.SVC()\n",
    "classifiers.append(model2)\n",
    "model3 = tree.DecisionTreeClassifier()\n",
    "classifiers.append(model3)\n",
    "model4 = RandomForestClassifier()\n",
    "classifiers.append(model4)\n",
    "\n",
    "for clf in classifiers:\n",
    "    clf.fit(X_train, y_train)\n",
    "    y_pred= clf.predict(X_test)\n",
    "    acc = accuracy_score(y_test, y_pred)\n",
    "    f1 = f1_score(y_test,y_pred)\n",
    "    #roc_auc = roc_auc_score(y_test,y_pred)\n",
    "    print(\"Accuracy of %s is %s\"%(clf, acc))\n",
    "    print(\"f1 of %s is %s\"%(clf, f1))\n",
    "    \n",
    "\n",
    "#Implemented in other files:\n",
    "#Random forest \n",
    "#Logistic Regression,\n",
    "\n",
    "#not yet implemented: \n",
    "#Naive Bayes \n",
    "#K-Nearest Neighbor\n",
    "\n",
    "\n",
    "#cm = confusion_matrix(y_test, y_pred)\n",
    "  #  print(\"Confusion Matrix of %s is %s\"%(clf, cm)\n",
    "\n",
    "\n",
    "\n"
   ]
  },
  {
   "cell_type": "code",
   "execution_count": null,
   "metadata": {},
   "outputs": [],
   "source": [
    "import pandas as pd \n",
    "import numpy as np\n",
    "from sklearn.metrics import accuracy_score, confusion_matrix\n",
    "from sklearn.ensemble import RandomForestClassifier\n",
    "from sklearn import svm, tree\n",
    "import xgboost\n",
    "\n"
   ]
  }
 ],
 "metadata": {
  "kernelspec": {
   "display_name": "Python 3",
   "language": "python",
   "name": "python3"
  },
  "language_info": {
   "codemirror_mode": {
    "name": "ipython",
    "version": 3
   },
   "file_extension": ".py",
   "mimetype": "text/x-python",
   "name": "python",
   "nbconvert_exporter": "python",
   "pygments_lexer": "ipython3",
   "version": "3.7.4"
  }
 },
 "nbformat": 4,
 "nbformat_minor": 2
}
