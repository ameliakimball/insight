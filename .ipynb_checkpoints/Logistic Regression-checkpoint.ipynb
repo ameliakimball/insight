{
 "cells": [
  {
   "cell_type": "code",
   "execution_count": 48,
   "metadata": {},
   "outputs": [
    {
     "name": "stdout",
     "output_type": "stream",
     "text": [
      "['Unnamed: 0', 'Unnamed: 0.1', 'id', 'organization_id', 'url', 'type', 'species', 'age', 'gender', 'size', 'coat', 'tags', 'name', 'description', 'photos', 'status', 'status_changed_at', 'published_at', 'distance', 'breeds.primary', 'breeds.secondary', 'breeds.mixed', 'breeds.unknown', 'colors.primary', 'colors.secondary', 'colors.tertiary', 'attributes.spayed_neutered', 'attributes.house_trained', 'attributes.declawed', 'attributes.special_needs', 'attributes.shots_current', 'environment.children', 'environment.dogs', 'environment.cats', 'contact.email', 'contact.phone', 'contact.address.address1', 'contact.address.address2', 'contact.address.city', 'contact.address.state', 'contact.address.postcode', 'contact.address.country', '_links.self.href', '_links.type.href', '_links.organization.href', 'City', 'time_diff', 'target_hour', 'target_day', 'log_target_hour', 'top_ten', 'num_tags', 'num_photos', 'num_words_desc', 'bin_month_target', 'bin_week_target']\n",
      "   Unnamed: 0  Unnamed: 0.1        id organization_id  \\\n",
      "0          11            11  47145864           IL244   \n",
      "1          12            12  47145830           IL244   \n",
      "2          23            23  47141997            IL82   \n",
      "3          24            24  47141970            IL82   \n",
      "4          25            25  47141965           IL944   \n",
      "\n",
      "                                                 url type species     age  \\\n",
      "0  https://www.petfinder.com/dog/rico-47145864/il...  Dog     Dog   Adult   \n",
      "1  https://www.petfinder.com/dog/jackie-47145830/...  Dog     Dog   Adult   \n",
      "2  https://www.petfinder.com/dog/peaches-47141997...  Dog     Dog   Adult   \n",
      "3  https://www.petfinder.com/dog/bruno-47141970/i...  Dog     Dog  Senior   \n",
      "4  https://www.petfinder.com/dog/marley-47141965/...  Dog     Dog   Young   \n",
      "\n",
      "   gender         size  ...                  time_diff target_hour target_day  \\\n",
      "0    Male        Small  ...  3 days 12:13:55.000000000        84.0        3.0   \n",
      "1  Female        Small  ...  4 days 20:24:59.000000000       116.0        4.0   \n",
      "2  Female       Medium  ...  3 days 20:40:11.000000000        92.0        3.0   \n",
      "3    Male       Medium  ...  3 days 20:44:05.000000000        92.0        3.0   \n",
      "4    Male  Extra Large  ...  3 days 09:45:04.000000000        81.0        3.0   \n",
      "\n",
      "  log_target_hour top_ten num_tags num_photos num_words_desc  \\\n",
      "0        4.430817    True        0          4           21.0   \n",
      "1        4.753590   False        0          5           21.0   \n",
      "2        4.521789   False        0          2           19.0   \n",
      "3        4.521789   False        0          2           19.0   \n",
      "4        4.394449   False        0          3           20.0   \n",
      "\n",
      "   bin_month_target bin_week_target  \n",
      "0                 1               1  \n",
      "1                 1               1  \n",
      "2                 1               1  \n",
      "3                 1               1  \n",
      "4                 1               1  \n",
      "\n",
      "[5 rows x 56 columns]\n"
     ]
    }
   ],
   "source": [
    "import numpy as np\n",
    "import pandas as pd\n",
    "import matplotlib.pyplot as plt\n",
    "import re \n",
    "\n",
    "#from petdata_functions import CleanPetData\n",
    "#from petdata_functions import ReformatDates\n",
    "\n",
    "petdat = pd.read_csv('backup_petdata_Jan30.csv')\n",
    "print(list(petdat.columns))\n",
    "print(petdat.head())\n"
   ]
  },
  {
   "cell_type": "code",
   "execution_count": 43,
   "metadata": {},
   "outputs": [
    {
     "name": "stdout",
     "output_type": "stream",
     "text": [
      "['age_Adult', 'age_Baby', 'age_Senior', 'age_Young']\n"
     ]
    }
   ],
   "source": [
    "import sklearn\n",
    "import pickle\n",
    "from sklearn.linear_model import LogisticRegression\n",
    "\n",
    "traindat = petdat[[#'coat',\n",
    "                   'age',\n",
    "                   #'size',\n",
    "                   #'top_ten',\n",
    "                   #'contact.address.state',\n",
    "                   #'attributes.special_needs',\n",
    "                   #'environment.children',\n",
    "                   #'environment.dogs',\n",
    "                   #'environment.cats',\n",
    "                   'bin_month_target']]\n",
    "\n",
    "#make a df 'X' of features to be used  as predictors in the model, right now all of traindat\n",
    "X = traindat.drop(columns = ['bin_month_target'])\n",
    "\n",
    "#one hot coding for variables\n",
    "cols_to_transform = [#'coat',\n",
    "                     'age']\n",
    "                     #'size']\n",
    "                     #'top_ten',\n",
    "                     #'contact.address.state',\n",
    "                     #'attributes.special_needs',\n",
    "                     #'environment.children',\n",
    "                     #'environment.dogs',\n",
    "                     #'environment.cats']\n",
    "\n",
    "\n",
    "X = pd.get_dummies(X, columns = cols_to_transform)\n",
    "print(list(X.columns))\n",
    "\n",
    "\n"
   ]
  },
  {
   "cell_type": "code",
   "execution_count": 44,
   "metadata": {},
   "outputs": [
    {
     "name": "stdout",
     "output_type": "stream",
     "text": [
      "0.8000745555788542\n",
      "0.6667702225156305\n",
      "0.6667702225156305\n"
     ]
    }
   ],
   "source": [
    "\n",
    "from sklearn.model_selection import train_test_split\n",
    "\n",
    "X_train,X_test,y_train,y_test = train_test_split(X, traindat.bin_month_target, test_size=0.20, random_state=42)\n",
    "\n",
    "logisticRegr = LogisticRegression()\n",
    "logisticRegr.fit(X_train,y_train)\n",
    "my_y_pred = logisticRegr.predict(X_test)\n",
    "\t\n",
    "\n",
    "print(sklearn.metrics.f1_score(y_true=y_test, y_pred = my_y_pred))\n",
    "print(sklearn.metrics.accuracy_score(y_true=y_test, y_pred = my_y_pred))\n",
    "print(sklearn.metrics.precision_score(y_true=y_test, y_pred = my_y_pred))\n",
    "\n",
    "\n",
    "\n",
    "#filename = 'draft_logit_reg.sav'\n",
    "#pickle.dump(logisticRegr, open(filename, 'wb'))\n"
   ]
  },
  {
   "cell_type": "code",
   "execution_count": 51,
   "metadata": {},
   "outputs": [
    {
     "name": "stdout",
     "output_type": "stream",
     "text": [
      "['coat', 'age', 'size']\n"
     ]
    }
   ],
   "source": [
    "\n",
    "traindat2 = petdat[['coat',\n",
    "                   'age',\n",
    "                   'size',\n",
    "                   #'top_ten',\n",
    "                   #'contact.address.state',\n",
    "                   #'attributes.special_needs',\n",
    "                   #'environment.children',\n",
    "                   #'environment.dogs',\n",
    "                   #'environment.cats',\n",
    "                   'bin_week_target']]\n",
    "\n",
    "#make a df 'X' of features to be used  as predictors in the model, right now all of traindat\n",
    "X2 = traindat2.drop(columns = ['bin_week_target'])\n",
    "\n",
    "#one hot coding for variables\n",
    "cols_to_transform = ['coat',\n",
    "                     'age',\n",
    "                     'size']\n",
    "                     #'top_ten',\n",
    "                     #'contact.address.state',\n",
    "                     #'attributes.special_needs',\n",
    "                     #'environment.children',\n",
    "                     #'environment.dogs',\n",
    "                     #'environment.cats']\n",
    "print(list(X2.columns))\n",
    "\n",
    "\n",
    "#filename = 'draft_logit_reg.sav'\n",
    "#pickle.dump(logisticRegr, open(filename, 'wb'))"
   ]
  },
  {
   "cell_type": "code",
   "execution_count": 52,
   "metadata": {},
   "outputs": [
    {
     "name": "stdout",
     "output_type": "stream",
     "text": [
      "['coat_Curly', 'coat_Hairless', 'coat_Long', 'coat_Medium', 'coat_Short', 'coat_Wire', 'age_Adult', 'age_Baby', 'age_Senior', 'age_Young', 'size_Extra Large', 'size_Large', 'size_Medium', 'size_Small']\n",
      "0.0\n",
      "0.7838530542503204\n",
      "0.0\n"
     ]
    },
    {
     "name": "stderr",
     "output_type": "stream",
     "text": [
      "/opt/anaconda3/envs/insight/lib/python3.6/site-packages/sklearn/metrics/_classification.py:1272: UndefinedMetricWarning: Precision is ill-defined and being set to 0.0 due to no predicted samples. Use `zero_division` parameter to control this behavior.\n",
      "  _warn_prf(average, modifier, msg_start, len(result))\n"
     ]
    }
   ],
   "source": [
    "X2 = pd.get_dummies(X2, columns = cols_to_transform)\n",
    "print(list(X2.columns))\n",
    "\n",
    "from sklearn.model_selection import train_test_split\n",
    "\n",
    "X_train,X_test,y_train,y_test = train_test_split(X2, traindat2.bin_week_target, test_size=0.20, random_state=42)\n",
    "\n",
    "logisticRegr = LogisticRegression()\n",
    "logisticRegr.fit(X_train,y_train)\n",
    "my_y_pred = logisticRegr.predict(X_test)\n",
    "\t\n",
    "\n",
    "print(sklearn.metrics.f1_score(y_true=y_test, y_pred = my_y_pred))\n",
    "print(sklearn.metrics.accuracy_score(y_true=y_test, y_pred = my_y_pred))\n",
    "print(sklearn.metrics.precision_score(y_true=y_test, y_pred = my_y_pred))\n",
    "\n"
   ]
  },
  {
   "cell_type": "code",
   "execution_count": null,
   "metadata": {},
   "outputs": [],
   "source": []
  }
 ],
 "metadata": {
  "kernelspec": {
   "display_name": "Python 3",
   "language": "python",
   "name": "python3"
  },
  "language_info": {
   "codemirror_mode": {
    "name": "ipython",
    "version": 3
   },
   "file_extension": ".py",
   "mimetype": "text/x-python",
   "name": "python",
   "nbconvert_exporter": "python",
   "pygments_lexer": "ipython3",
   "version": "3.6.10"
  }
 },
 "nbformat": 4,
 "nbformat_minor": 2
}
