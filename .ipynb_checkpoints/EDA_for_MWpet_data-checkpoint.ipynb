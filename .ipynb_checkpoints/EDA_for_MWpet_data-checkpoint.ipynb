{
 "cells": [
  {
   "cell_type": "code",
   "execution_count": null,
   "metadata": {},
   "outputs": [],
   "source": [
    "chidat = pd.read_csv(\"Chicago_adopted_20k_Jan_21.csv\") \n",
    "stldat = pd.read_csv(\"StL_adopted_20k_Jan_21.csv\")\n",
    "inddat = pd.read_csv(\"Indy_adopted_20k_Jan_21.csv\")\n",
    "\n",
    "\n",
    "\n",
    "petdat.hist(column='distance')\n",
    "petdat.hist(column= 'target_min', bins = 50)\n",
    "plt.xlim(0, 600000)\n",
    "\n",
    "ax1 = petdat.plot.scatter(x='distance',\n",
    "                          y='target_min',\n",
    "                          c='DarkBlue')\n",
    "import seaborn as sns\n",
    "\n",
    "sns.set(style=\"darkgrid\")\n",
    "g = sns.FacetGrid(petdat, col=\"size\")\n",
    "g.map(plt.hist, \"target_min\", color=\"steelblue\")\n"
   ]
  }
 ],
 "metadata": {
  "kernelspec": {
   "display_name": "Python 3",
   "language": "python",
   "name": "python3"
  },
  "language_info": {
   "codemirror_mode": {
    "name": "ipython",
    "version": 3
   },
   "file_extension": ".py",
   "mimetype": "text/x-python",
   "name": "python",
   "nbconvert_exporter": "python",
   "pygments_lexer": "ipython3",
   "version": "3.7.4"
  }
 },
 "nbformat": 4,
 "nbformat_minor": 2
}
