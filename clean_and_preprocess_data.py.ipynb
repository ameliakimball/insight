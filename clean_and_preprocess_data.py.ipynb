{
 "cells": [
  {
   "cell_type": "code",
   "execution_count": 1,
   "metadata": {},
   "outputs": [
    {
     "ename": "SyntaxError",
     "evalue": "invalid syntax (petdata_functions.py, line 26)",
     "output_type": "error",
     "traceback": [
      "Traceback \u001b[0;36m(most recent call last)\u001b[0m:\n",
      "  File \u001b[1;32m\"/opt/anaconda3/lib/python3.7/site-packages/IPython/core/interactiveshell.py\"\u001b[0m, line \u001b[1;32m3319\u001b[0m, in \u001b[1;35mrun_code\u001b[0m\n    exec(code_obj, self.user_global_ns, self.user_ns)\n",
      "\u001b[0;36m  File \u001b[0;32m\"<ipython-input-1-4440813f6788>\"\u001b[0;36m, line \u001b[0;32m3\u001b[0;36m, in \u001b[0;35m<module>\u001b[0;36m\u001b[0m\n\u001b[0;31m    from petdata_functions import CleanPetData\u001b[0m\n",
      "\u001b[0;36m  File \u001b[0;32m\"/Users/post-doc/Desktop/insight_app/petdata_functions.py\"\u001b[0;36m, line \u001b[0;32m26\u001b[0m\n\u001b[0;31m    def ReformatDates(df)\u001b[0m\n\u001b[0m                         ^\u001b[0m\n\u001b[0;31mSyntaxError\u001b[0m\u001b[0;31m:\u001b[0m invalid syntax\n"
     ]
    }
   ],
   "source": [
    "import pandas as pd\n",
    "import matplotlib.pyplot as plt\n",
    "from petdata_functions import CleanPetData\n",
    "from petdata_functions import ReformatDates\n",
    "\n",
    "\n",
    "#read in data \n",
    "chidat = pd.read_csv(\"Chicago_adopted_20k_Jan_21.csv\") \n",
    "chidat['City'] = 'Chicago'\n",
    "\n",
    "houstdat = pd.read_csv(\"Houston_adopted_20k_Jan_21.csv\") \n",
    "houstdat['City'] = 'Houston'\n",
    "\n",
    "elpdat = pd.read_csv(\"ElPaso_adopted_20k_Jan_21.csv\") \n",
    "elpdat['City'] = 'ElPaso'\n",
    "\n",
    "Minndat = pd.read_csv(\"Chicago_adopted_20k_Jan_21.csv\") \n",
    "Minndat['City'] = 'Minne'\n",
    "\n",
    "dendat = pd.read_csv(\"Denver_adopted_20k_Jan_21.csv\") \n",
    "dendat['City'] = 'Denver'\n",
    "\n",
    "stldat = pd.read_csv(\"StL_adopted_20k_Jan_21.csv\")\n",
    "stldat['City'] = 'StLouis'\n",
    "\n",
    "inddat = pd.read_csv(\"Indy_adopted_20k_Jan_21.csv\")\n",
    "inddat['City'] = 'Indy'\n",
    "\n",
    "petdat = pd.concat([chidat,houstdata,elpdat,Minndat,dendat, stldat, inddat])\n",
    "\n",
    "petdat.head()\n",
    "\n"
   ]
  },
  {
   "cell_type": "code",
   "execution_count": null,
   "metadata": {},
   "outputs": [],
   "source": []
  }
 ],
 "metadata": {
  "kernelspec": {
   "display_name": "Python 3",
   "language": "python",
   "name": "python3"
  },
  "language_info": {
   "codemirror_mode": {
    "name": "ipython",
    "version": 3
   },
   "file_extension": ".py",
   "mimetype": "text/x-python",
   "name": "python",
   "nbconvert_exporter": "python",
   "pygments_lexer": "ipython3",
   "version": "3.7.4"
  }
 },
 "nbformat": 4,
 "nbformat_minor": 2
}
