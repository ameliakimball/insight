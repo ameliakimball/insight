{
 "cells": [
  {
   "cell_type": "code",
   "execution_count": null,
   "metadata": {},
   "outputs": [],
   "source": [
    "#function: identify the dogs with the longest predicted stay  and return their petfinderid\n",
    "\n",
    "#iterate through the three dogs \n",
    "#using animalid get and store variables of values of other features \n",
    "\n",
    "#iterate through the locations. \n",
    "    #using those variables, get predicted length of stay if variables changed\n",
    "\n",
    "#return best location. if location= current location, say \"stay put\", \n",
    "#otherwise \n"
   ]
  }
 ],
 "metadata": {
  "kernelspec": {
   "display_name": "Python 3",
   "language": "python",
   "name": "python3"
  },
  "language_info": {
   "codemirror_mode": {
    "name": "ipython",
    "version": 3
   },
   "file_extension": ".py",
   "mimetype": "text/x-python",
   "name": "python",
   "nbconvert_exporter": "python",
   "pygments_lexer": "ipython3",
   "version": "3.6.10"
  }
 },
 "nbformat": 4,
 "nbformat_minor": 2
}
