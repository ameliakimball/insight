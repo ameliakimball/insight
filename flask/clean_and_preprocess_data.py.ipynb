
import os
import requests
import json
import pandas as pd
from pet_functions import GetBearerToken
from pet_functions import GetTextResp

KEY = os.environ['PETFINDER_KEY']
SECRET = os.environ['PETFINDER_SECRET']

shelter_id = 'NV116'
my_header = GetBearerToken(KEY = KEY, SECRET = SECRET)
df_to_display = GetTextResp(organization = shelter_id, header = my_header)

df_to_display.head()

