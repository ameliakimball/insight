{
 "cells": [
  {
   "cell_type": "code",
   "execution_count": 17,
   "metadata": {},
   "outputs": [
    {
     "name": "stderr",
     "output_type": "stream",
     "text": [
      "/opt/anaconda3/envs/insight/lib/python3.6/site-packages/IPython/core/interactiveshell.py:3051: DtypeWarning: Columns (24) have mixed types. Specify dtype option on import or set low_memory=False.\n",
      "  interactivity=interactivity, compiler=compiler, result=result)\n"
     ]
    },
    {
     "name": "stdout",
     "output_type": "stream",
     "text": [
      "0.07618899527972356\n"
     ]
    }
   ],
   "source": [
    "import numpy as np\n",
    "import pandas as pd\n",
    "import matplotlib.pyplot as plt\n",
    "import sklearn\n",
    "import seaborn as sns\n",
    "import pickle\n",
    "\n",
    "from sklearn.linear_model import LinearRegression\n",
    "\n",
    "chidat = pd.read_csv(\"Chicago_adopted_20k_Jan_21.csv\") \n",
    "chidat['City'] = 'Chicago'\n",
    "\n",
    "stldat = pd.read_csv(\"StL_adopted_20k_Jan_21.csv\")\n",
    "stldat['City'] = 'StLouis'\n",
    "\n",
    "inddat = pd.read_csv(\"Indy_adopted_20k_Jan_21.csv\")\n",
    "inddat['City'] = 'Indy'\n",
    "\n",
    "petdat = pd.concat([chidat, stldat, inddat])\n",
    "\n",
    "#select only variables of interest, and variables to display later \n",
    "\n",
    "\n",
    "#reformat dates and calculate difference in dates (= target variable)\n",
    "\n",
    "fmt ='%Y-%m-%dT%H:%M:%S+0000'\n",
    "petdat['published_at'] =  pd.to_datetime(petdat['published_at'], format=fmt)\n",
    "petdat['status_changed_at'] =  pd.to_datetime(petdat['status_changed_at'], format=fmt)\n",
    "petdat['time_diff'] = petdat['status_changed_at'] - petdat['published_at']\n",
    "petdat['target_hour'] = petdat.time_diff.astype('timedelta64[h]')\n",
    "\n",
    "#get a small subset of data to work with for now\n",
    "traindat = petdat[['id','name','age','gender','size','City','target_hour']]\n",
    "\n",
    "#transform DV to address skew.\n",
    "traindat = traindat[traindat['target_hour'] > 24] \n",
    "traindat = traindat[traindat['target_hour'] <20000] \n",
    "traindat['log_target_hour'] = np.log(traindat['target_hour'])\n",
    "\n",
    "\n",
    "#make a df of features to be used  as predictors in the model\n",
    "X = traindat[['age', 'gender', 'size','City']]\n",
    "\n",
    "#one hot coding for features \n",
    "cols_to_transform = ['age', 'gender', 'size','City']\n",
    "X = pd.get_dummies(X, columns = cols_to_transform )\n",
    "\n",
    "\n",
    "#fit lm\n",
    "lm = LinearRegression()\n",
    "\n",
    "lm.fit(X, traindat.log_target_hour)\n",
    "\n",
    "print(lm.score(X, traindat.log_target_hour))\n",
    "\n",
    "# save the model to disk\n",
    "filename = 'draft_pet_model.sav'\n",
    "pickle.dump(lm, open(filename, 'wb'))\n",
    "\n",
    "\n"
   ]
  },
  {
   "cell_type": "code",
   "execution_count": null,
   "metadata": {},
   "outputs": [],
   "source": []
  }
 ],
 "metadata": {
  "kernelspec": {
   "display_name": "Python 3",
   "language": "python",
   "name": "python3"
  },
  "language_info": {
   "codemirror_mode": {
    "name": "ipython",
    "version": 3
   },
   "file_extension": ".py",
   "mimetype": "text/x-python",
   "name": "python",
   "nbconvert_exporter": "python",
   "pygments_lexer": "ipython3",
   "version": "3.6.10"
  }
 },
 "nbformat": 4,
 "nbformat_minor": 2
}
