{
 "cells": [
  {
   "cell_type": "code",
   "execution_count": 9,
   "metadata": {},
   "outputs": [
    {
     "name": "stdout",
     "output_type": "stream",
     "text": [
      "new token received\n",
      "{'type': 'https://httpstatus.es/429', 'status': 429, 'title': 'Rate Limit Exceeded', 'detail': 'Limit Exceeded'}\n"
     ]
    }
   ],
   "source": [
    "import requests\n",
    "import os \n",
    "import pandas as pd\n",
    "import time \n",
    "import json\n",
    "from pandas.io.json import json_normalize  \n",
    "\n",
    "\n",
    "#get auth token \n",
    "KEY = os.environ['PETFINDER_KEY']\n",
    "SECRET = os.environ['PETFINDER_SECRET']\n",
    "\n",
    "def GetBearerToken(KEY,SECRET):\n",
    "    data = {\n",
    "    'grant_type': 'client_credentials',\n",
    "    'client_id': KEY,\n",
    "    'client_secret': SECRET\n",
    "      }\n",
    "    response = requests.post('https://api.petfinder.com/v2/oauth2/token', data=data)\n",
    "    if response.reason != 'OK':\n",
    "        print('failed to get token. check credentials')\n",
    "        print('response code:', response.status_code)\n",
    "        print('response reason:', response.reason)\n",
    "    else:\n",
    "        print('new token received')\n",
    "        TOKEN = json.loads(response.text)['access_token']\n",
    "        new_header = {\n",
    "                'Authorization': 'Bearer {}'.format(TOKEN),}\n",
    "    return new_header\n",
    "    \n",
    "header = GetBearerToken(KEY,SECRET)\n",
    "\n",
    "type = 'Dog'\n",
    "location = 78401 #60601 chicago  #63103 St L  #46202 Indy \n",
    "limit = 100\n",
    "distance = 100 \n",
    "status = 'adopted'\n",
    "outfile = 'CorpC_adopted_20k_Jan_21.csv'\n",
    "\n",
    "respdf = pd.DataFrame()\n",
    "url = f'https://api.petfinder.com/v2/animals?type={type}&location={location}&limit={limit}&page={page}&distance={distance}&status={status}'\n",
    "response = requests.get(url, headers=header)\n",
    "my_dict =json.loads(response.text)\n",
    "    \n",
    "print(my_dict)\n",
    "#for i in range(200):\n",
    " #   page = i + 1 \n",
    "  #  url = f'https://api.petfinder.com/v2/animals?type={type}&location={location}&limit={limit}&page={page}&distance={distance}&status={status}'\n",
    "   # print(i)\n",
    "    #print(response)\n",
    "    #response = requests.get(url, headers=header)\n",
    "    #my_dict =json.loads(response.text)\n",
    "    #animals = my_dict.get('animals')\n",
    "    #df = pd.io.json.json_normalize(animals)\n",
    "    #respdf = respdf.append(df)\n",
    "    #time.sleep(5)\n",
    "\n",
    "#respdf.to_csv(path_or_buf = outfile)\n",
    "\n"
   ]
  },
  {
   "cell_type": "code",
   "execution_count": 2,
   "metadata": {},
   "outputs": [],
   "source": [
    "respdf.to_csv(path_or_buf = outfile)"
   ]
  },
  {
   "cell_type": "code",
   "execution_count": null,
   "metadata": {},
   "outputs": [],
   "source": []
  }
 ],
 "metadata": {
  "kernelspec": {
   "display_name": "Python 3",
   "language": "python",
   "name": "python3"
  },
  "language_info": {
   "codemirror_mode": {
    "name": "ipython",
    "version": 3
   },
   "file_extension": ".py",
   "mimetype": "text/x-python",
   "name": "python",
   "nbconvert_exporter": "python",
   "pygments_lexer": "ipython3",
   "version": "3.7.4"
  }
 },
 "nbformat": 4,
 "nbformat_minor": 2
}
