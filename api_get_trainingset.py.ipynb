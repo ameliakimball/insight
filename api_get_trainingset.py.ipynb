{
 "cells": [
  {
   "cell_type": "code",
   "execution_count": null,
   "metadata": {},
   "outputs": [],
   "source": [
    "import requests\n",
    "import pandas as pd\n",
    "import time \n",
    "import json\n",
    "from pandas.io.json import json_normalize  \n",
    "\n",
    "\n",
    "#get auth token \n",
    "\n",
    "KEY = os.environ['PETFINDER_KEY']\n",
    "SECRET = os.environ['PETFINDER_SECRET']\n",
    "\n",
    "def get_header(self):\n",
    "        data = {\n",
    "            'grant_type': 'client_credentials',\n",
    "            'client_id': KEY,\n",
    "            'client_secret': SECRET\n",
    "        }\n",
    "        response = requests.post('https://api.petfinder.com/v2/oauth2/token', data=data)\n",
    "        if response.reason != 'OK':\n",
    "            print('failed to get token. check credentials')\n",
    "            print('response code:', response.status_code)\n",
    "            print('response reason:', response.reason)\n",
    "        else:\n",
    "            print('new token received')\n",
    "        TOKEN = json.loads(response.text)['access_token']\n",
    "        header = {\n",
    "            'Authorization': 'Bearer {}'.format(TOKEN),\n",
    "        }\n",
    "        return header\n",
    "    \n",
    "\n",
    "#use token to get data \n",
    "\n",
    "type = 'Dog'\n",
    "location = 60601    #60601 chicago  #63103 St L  #46202 Indy \n",
    "limit = 100\n",
    "distance = 50  \n",
    "status = 'adopted'\n",
    "outfile = 'Chicago_adopted_20k_Jan_21.csv'\n",
    "\n",
    "respdf = pd.DataFrame()\n",
    "\n",
    "for i in range(200):\n",
    "    page = i + 1 \n",
    "    url = f'https://api.petfinder.com/v2/animals?type={type}&location={location}&limit={limit}&page={page}&distance={distance}&status={status}'\n",
    "    print(i)\n",
    "    response = requests.get(url, headers=header)\n",
    "    my_dict =json.loads(response.text)\n",
    "    animals = my_dict.get('animals')\n",
    "    df = pd.io.json.json_normalize(animals)\n",
    "    respdf = respdf.append(df)\n",
    "    time.sleep(5)\n",
    "\n",
    "respdf.to_csv(path_or_buf = outfile)\n",
    "\n"
   ]
  }
 ],
 "metadata": {
  "kernelspec": {
   "display_name": "Python 3",
   "language": "python",
   "name": "python3"
  },
  "language_info": {
   "codemirror_mode": {
    "name": "ipython",
    "version": 3
   },
   "file_extension": ".py",
   "mimetype": "text/x-python",
   "name": "python",
   "nbconvert_exporter": "python",
   "pygments_lexer": "ipython3",
   "version": "3.6.10"
  }
 },
 "nbformat": 4,
 "nbformat_minor": 2
}
